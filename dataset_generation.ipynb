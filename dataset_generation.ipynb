{
 "cells": [
  {
   "cell_type": "markdown",
   "id": "661e3e0d",
   "metadata": {},
   "source": [
    "# Dataset Generation\n",
    "Generate 4 different datasets which are saved and used to train and evaluate each of the models. Each dataset is\n",
    "generated with 2000 training points and 500 test points."
   ]
  },
  {
   "cell_type": "code",
   "execution_count": null,
   "id": "675e4b31-a837-4ad7-bf57-ec73501c6b1b",
   "metadata": {},
   "outputs": [],
   "source": [
    "import numpy as np\n",
    "import matplotlib.pylab as plt\n",
    "import os"
   ]
  },
  {
   "cell_type": "code",
   "execution_count": null,
   "id": "6c65cfa9-3b41-4316-bf8a-5a871521a9a4",
   "metadata": {},
   "outputs": [],
   "source": [
    "# Directory for storing datasets\n",
    "data_dir = 'dataset'\n",
    "os.makedirs(data_dir, exist_ok=True)\n",
    "\n",
    "# Random number generator\n",
    "rng = np.random.default_rng()"
   ]
  },
  {
   "cell_type": "code",
   "execution_count": null,
   "id": "930c4e20",
   "metadata": {},
   "outputs": [],
   "source": [
    "def plot_dataset(X_train, X_test):\n",
    "    plt.scatter(X_train[:, 0], X_train[:, 1], alpha=0.7, marker='.', label='Train')\n",
    "    plt.scatter(X_test[:, 0], X_test[:, 1], alpha=0.7, marker='.', label='Test')\n",
    "    plt.xlabel(\"$x_1$\")\n",
    "    plt.ylabel(\"$x_2$\")\n",
    "    plt.axis('equal')\n",
    "    plt.legend()\n",
    "    plt.show()  "
   ]
  },
  {
   "cell_type": "markdown",
   "id": "b8757d0b-4dfa-44cb-90ff-d3ff1d75e389",
   "metadata": {},
   "source": [
    "## Pinwheel"
   ]
  },
  {
   "cell_type": "code",
   "execution_count": null,
   "id": "4fba970b-c263-4a3f-8bdc-5c5511c7ba6a",
   "metadata": {},
   "outputs": [],
   "source": [
    "def generate_pinwheel(*, num: int, rng: np.random.Generator) -> np.ndarray:\n",
    "    # https://github.com/Formulator/Spiral/blob/master/PyTorch_Spiral_DataLoader.ipynb\n",
    "    D = 2 # dimensionality\n",
    "    K = 3 # number of classes\n",
    "    N = num // K  # note: we will not generate exactly num datapoints unless K divides num\n",
    "    X = np.zeros((N*K,D))\n",
    "    y = np.zeros(N*K, dtype='uint8')\n",
    "    for j in range(K):\n",
    "      ix = range(N*j,N*(j+1))\n",
    "      r = np.linspace(0.0,1,N) # radius\n",
    "      t = np.linspace(j*4,(j+1)*4,N) + rng.standard_normal(N)*0.2 # theta\n",
    "      X[ix] = np.c_[r*np.sin(t), r*np.cos(t)]\n",
    "    return X"
   ]
  },
  {
   "cell_type": "code",
   "execution_count": null,
   "id": "cf1adfeb",
   "metadata": {},
   "outputs": [],
   "source": [
    "# Generate dataset\n",
    "X_train_pinwheel = generate_pinwheel(num=2000, rng=rng)\n",
    "X_test_pinwheel = generate_pinwheel(num=500, rng=rng)\n",
    "\n",
    "# Save and plot dataset\n",
    "np.save(os.path.join(data_dir, 'X_train_pinwheel.npy'), X_train_pinwheel)\n",
    "np.save(os.path.join(data_dir, 'X_test_pinwheel.npy'), X_train_pinwheel)\n",
    "plot_dataset(X_train_pinwheel, X_test_pinwheel)"
   ]
  },
  {
   "cell_type": "markdown",
   "id": "b674035c-c749-4527-b00a-bdc1ee8ba394",
   "metadata": {},
   "source": [
    "## Spiral"
   ]
  },
  {
   "cell_type": "code",
   "execution_count": null,
   "id": "05c51ef9-64cd-4ec1-9bc0-0c7389df5cf4",
   "metadata": {},
   "outputs": [],
   "source": [
    "def generate_spiral(*, num: int, rng: np.random.Generator) -> np.ndarray:\n",
    "    thetas = rng.uniform(low=0.0, high=6*np.pi, size=(num,))\n",
    "    rs = thetas * 0.05\n",
    "    X = np.hstack((\n",
    "        (rs * np.cos(thetas))[:, None],\n",
    "        (rs * np.sin(thetas))[:, None],\n",
    "    ))\n",
    "    X = X + 0.04 * rng.standard_normal(X.shape) \n",
    "    return X"
   ]
  },
  {
   "cell_type": "code",
   "execution_count": null,
   "id": "292819c9-c62c-4419-b712-22b14278133c",
   "metadata": {},
   "outputs": [],
   "source": [
    "# Generate dataset\n",
    "X_train_spiral = generate_spiral(num=2000, rng=rng)\n",
    "X_test_spiral = generate_spiral(num=500, rng=rng)\n",
    "\n",
    "# Save and plot dataset\n",
    "np.save(os.path.join(data_dir, 'X_train_spiral.npy'), X_train_spiral)\n",
    "np.save(os.path.join(data_dir, 'X_test_spiral.npy'), X_test_spiral)\n",
    "plot_dataset(X_train_spiral, X_test_spiral)"
   ]
  },
  {
   "cell_type": "markdown",
   "id": "35c88377-0923-4bbb-9731-6541adc34af9",
   "metadata": {},
   "source": [
    "## Checkerboard"
   ]
  },
  {
   "cell_type": "code",
   "execution_count": null,
   "id": "4c9e81f2-e89e-43b4-871e-942e7d772621",
   "metadata": {},
   "outputs": [],
   "source": [
    "def generate_checkerboard(*, num: int, rng: np.random.Generator) -> np.ndarray:\n",
    "    # https://github.com/malbergo/stochastic-interpolants/blob/main/notebooks/checker-mirror.ipynb\n",
    "    x1 = rng.uniform(size=num) * 4 - 2\n",
    "    x2_ = rng.uniform(size=num) - rng.choice([0, 1], size=(num,)) * 2\n",
    "    x2 = x2_ + (np.floor(x1) % 2)\n",
    "    x = np.hstack([x1[:, None], x2[:, None]]) * 2\n",
    "    return x"
   ]
  },
  {
   "cell_type": "code",
   "execution_count": null,
   "id": "538f4ddf-43dc-4479-9d69-08c791fb78cf",
   "metadata": {},
   "outputs": [],
   "source": [
    "# Generate dataset\n",
    "X_train_checkerboard = generate_checkerboard(num=2000, rng=rng)\n",
    "X_test_checkerboard = generate_checkerboard(num=500, rng=rng)\n",
    "\n",
    "# Save and plot dataset\n",
    "np.save(os.path.join(data_dir, 'X_train_checkerboard.npy'), X_train_checkerboard)\n",
    "np.save(os.path.join(data_dir, 'X_test_checkerboard.npy'), X_test_checkerboard)\n",
    "plot_dataset(X_train_checkerboard, X_test_checkerboard)"
   ]
  },
  {
   "cell_type": "markdown",
   "id": "22650deb-5f28-4ca8-9f34-140384f14c56",
   "metadata": {},
   "source": [
    "## Gaussian mixtures"
   ]
  },
  {
   "cell_type": "code",
   "execution_count": null,
   "id": "38768c7c-20f3-46c2-85be-6d19d8a66e4c",
   "metadata": {},
   "outputs": [],
   "source": [
    "def generate_gaussian_mixtures(*, num: int, rng: np.random.Generator) -> np.ndarray:\n",
    "    angles = np.linspace(0, 2*np.pi, 8)[:-1]\n",
    "    idxs = rng.choice(np.arange(len(angles)), size=num)\n",
    "    X = np.hstack((\n",
    "        1.2*np.cos(angles[idxs])[:, None],\n",
    "        1.2*np.sin(angles[idxs])[:, None]\n",
    "    ))\n",
    "    X = X + rng.standard_normal(size=X.shape) * 0.12\n",
    "    return X"
   ]
  },
  {
   "cell_type": "code",
   "execution_count": null,
   "id": "a46cd739-725e-4440-b253-2743dab4d8c8",
   "metadata": {},
   "outputs": [],
   "source": [
    "# Generate dataset\n",
    "X_train_gaussian_mixture = generate_gaussian_mixtures(num=2000, rng=rng)\n",
    "X_test_gaussian_mixture = generate_gaussian_mixtures(num=500, rng=rng)\n",
    "\n",
    "# Save and plot dataset\n",
    "np.save(os.path.join(data_dir, 'X_train_gaussian_mixture.npy'), X_train_gaussian_mixture)\n",
    "np.save(os.path.join(data_dir, 'X_test_gaussian_mixture.npy'), X_test_gaussian_mixture)\n",
    "plot_dataset(X_train_gaussian_mixture, X_test_gaussian_mixture)"
   ]
  }
 ],
 "metadata": {
  "kernelspec": {
   "display_name": "Python 3 (ipykernel)",
   "language": "python",
   "name": "python3"
  },
  "language_info": {
   "codemirror_mode": {
    "name": "ipython",
    "version": 3
   },
   "file_extension": ".py",
   "mimetype": "text/x-python",
   "name": "python",
   "nbconvert_exporter": "python",
   "pygments_lexer": "ipython3",
   "version": "3.12.2"
  }
 },
 "nbformat": 4,
 "nbformat_minor": 5
}
